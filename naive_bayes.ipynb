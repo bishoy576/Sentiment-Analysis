{
  "nbformat": 4,
  "nbformat_minor": 0,
  "metadata": {
    "colab": {
      "provenance": [],
      "authorship_tag": "ABX9TyPKjRHTjWzG6R0OzGxRZJUM",
      "include_colab_link": true
    },
    "kernelspec": {
      "name": "python3",
      "display_name": "Python 3"
    },
    "language_info": {
      "name": "python"
    }
  },
  "cells": [
    {
      "cell_type": "markdown",
      "metadata": {
        "id": "view-in-github",
        "colab_type": "text"
      },
      "source": [
        "<a href=\"https://colab.research.google.com/github/bishoy576/Sentiment-Analysis-on-Movie-reviews/blob/main/naive_bayes.ipynb\" target=\"_parent\"><img src=\"https://colab.research.google.com/assets/colab-badge.svg\" alt=\"Open In Colab\"/></a>"
      ]
    },
    {
      "cell_type": "code",
      "source": [
        "import numpy as np"
      ],
      "metadata": {
        "id": "tvMDQUIp2QOP"
      },
      "execution_count": null,
      "outputs": []
    },
    {
      "cell_type": "code",
      "source": [
        "!pip install datasets"
      ],
      "metadata": {
        "id": "Arzw2wti1c2K"
      },
      "execution_count": null,
      "outputs": []
    },
    {
      "cell_type": "code",
      "source": [
        "from datasets import load_dataset\n",
        "\n",
        "dataset = load_dataset(\"sst\", \"default\")"
      ],
      "metadata": {
        "id": "hTUvNL4_zImF"
      },
      "execution_count": null,
      "outputs": []
    },
    {
      "cell_type": "code",
      "source": [
        "print(list(dataset['train']['tokens'])[:5])\n",
        "print(list(dataset['train']['sentence'])[:5])"
      ],
      "metadata": {
        "colab": {
          "base_uri": "https://localhost:8080/"
        },
        "id": "aTMos39Ggd3f",
        "outputId": "0d8e9cf1-0f20-4fb4-b704-2a1a5cfeb822"
      },
      "execution_count": null,
      "outputs": [
        {
          "output_type": "stream",
          "name": "stdout",
          "text": [
            "[\"The|Rock|is|destined|to|be|the|21st|Century|'s|new|``|Conan|''|and|that|he|'s|going|to|make|a|splash|even|greater|than|Arnold|Schwarzenegger|,|Jean-Claud|Van|Damme|or|Steven|Segal|.\", \"The|gorgeously|elaborate|continuation|of|``|The|Lord|of|the|Rings|''|trilogy|is|so|huge|that|a|column|of|words|can|not|adequately|describe|co-writer\\\\/director|Peter|Jackson|'s|expanded|vision|of|J.R.R.|Tolkien|'s|Middle-earth|.\", 'Singer\\\\/composer|Bryan|Adams|contributes|a|slew|of|songs|--|a|few|potential|hits|,|a|few|more|simply|intrusive|to|the|story|--|but|the|whole|package|certainly|captures|the|intended|,|er|,|spirit|of|the|piece|.', \"You|'d|think|by|now|America|would|have|had|enough|of|plucky|British|eccentrics|with|hearts|of|gold|.\", 'Yet|the|act|is|still|charming|here|.']\n",
            "[\"The Rock is destined to be the 21st Century 's new `` Conan '' and that he 's going to make a splash even greater than Arnold Schwarzenegger , Jean-Claud Van Damme or Steven Segal .\", \"The gorgeously elaborate continuation of `` The Lord of the Rings '' trilogy is so huge that a column of words can not adequately describe co-writer\\\\/director Peter Jackson 's expanded vision of J.R.R. Tolkien 's Middle-earth .\", 'Singer\\\\/composer Bryan Adams contributes a slew of songs -- a few potential hits , a few more simply intrusive to the story -- but the whole package certainly captures the intended , er , spirit of the piece .', \"You 'd think by now America would have had enough of plucky British eccentrics with hearts of gold .\", 'Yet the act is still charming here .']\n"
          ]
        }
      ]
    },
    {
      "cell_type": "code",
      "source": [
        "# Load your training and testing data (replace with your data loading)\n",
        "train_data, train_labels = np.array(dataset['train']['tokens']), np.array(dataset['train']['label'])\n",
        "test_data, test_labels = np.array(dataset['test']['tokens']), np.array(dataset['test']['label'])\n",
        "\n",
        "def map_to_classes(arr):\n",
        "  for i, el in enumerate(arr):\n",
        "    if el <= 0.2:\n",
        "      arr[i] = 0\n",
        "    elif el <= 0.4:\n",
        "      arr[i] = 1\n",
        "    elif el <= 0.6:\n",
        "      arr[i] = 2\n",
        "    elif el <= 0.8:\n",
        "      arr[i] = 3\n",
        "    elif el <= 1:\n",
        "      arr[i] = 4\n",
        "\n"
      ],
      "metadata": {
        "id": "RNnPg6F-0HP4"
      },
      "execution_count": null,
      "outputs": []
    },
    {
      "cell_type": "code",
      "source": [
        "map_to_classes(train_labels)\n",
        "train_labels = train_labels.astype(np.int8)\n",
        "map_to_classes(test_labels)\n",
        "test_labels = test_labels.astype(np.int8)"
      ],
      "metadata": {
        "id": "lro8CaIqQWwt"
      },
      "execution_count": null,
      "outputs": []
    },
    {
      "cell_type": "code",
      "source": [
        "np.unique(train_labels)"
      ],
      "metadata": {
        "colab": {
          "base_uri": "https://localhost:8080/"
        },
        "id": "AXh_8x0Qb6Vk",
        "outputId": "f46b524e-bee5-43cf-cb89-aca9c3e9840a"
      },
      "execution_count": null,
      "outputs": [
        {
          "output_type": "execute_result",
          "data": {
            "text/plain": [
              "array([0, 1, 2, 3, 4], dtype=int8)"
            ]
          },
          "metadata": {},
          "execution_count": 7
        }
      ]
    },
    {
      "cell_type": "code",
      "source": [
        "import matplotlib.pyplot as plt\n",
        "\n",
        "# Plot the histogram\n",
        "\n",
        "plt.hist(train_labels, bins=30, edgecolor='black')\n",
        "plt.xlabel('Value')\n",
        "plt.ylabel('Frequency')\n",
        "plt.title('Histogram of Data')\n",
        "plt.grid(False)\n",
        "\n",
        "# Add frequency labels over each bar\n",
        "hist, bins = np.histogram(train_labels, bins=30)\n",
        "for i in range(len(hist)):\n",
        "    plt.text(bins[i], hist[i], str(hist[i]), ha='center', va='bottom')\n",
        "\n",
        "plt.show()"
      ],
      "metadata": {
        "colab": {
          "base_uri": "https://localhost:8080/",
          "height": 472
        },
        "id": "CzAelvx7b0f-",
        "outputId": "d1437a6e-fb9f-4f81-bd21-fb44e183ed77"
      },
      "execution_count": null,
      "outputs": [
        {
          "output_type": "display_data",
          "data": {
            "text/plain": [
              "<Figure size 640x480 with 1 Axes>"
            ],
            "image/png": "[encoded data removed]"
          },
          "metadata": {}
        }
      ]
    },
    {
      "cell_type": "code",
      "source": [
        "from logging import error\n",
        "from collections import defaultdict\n",
        "from sklearn.metrics import accuracy_score, confusion_matrix\n",
        "class NaiveBayes:\n",
        "  def train(self, data, labels,  classes):\n",
        "    logprior = [None] * 5\n",
        "    Ndoc = data.shape[0]\n",
        "    for c in classes:\n",
        "      Nc = np.sum(labels == c)\n",
        "      logprior[c] = np.log(Nc / Ndoc)\n",
        "    vocabulary = {}\n",
        "    for sentence in data:\n",
        "      words = sentence.lower().split('|')\n",
        "      for word in words:\n",
        "        if word not in vocabulary:\n",
        "          vocabulary[word] = len(vocabulary)\n",
        "    def create_empty_array():\n",
        "       return np.array([])\n",
        "    bigdoc = defaultdict(create_empty_array)\n",
        "    for sentence, label in zip(data, labels):\n",
        "      bigdoc[label] = np.concatenate([bigdoc[label], np.array(sentence.lower().split('|'))])\n",
        "    loglikelihood = np.zeros((len(vocabulary), 5))\n",
        "    V = len(vocabulary)\n",
        "    for word in vocabulary:\n",
        "      for c in classes:\n",
        "        count = np.sum(bigdoc[c] == word)\n",
        "        loglikelihood[vocabulary[word], c] = np.log((count + 1) / (len(bigdoc[c]) + V))\n",
        "    self.logprior = logprior\n",
        "    self.loglikelihood = loglikelihood\n",
        "    self.vocabulary = vocabulary\n",
        "    self.V = V\n",
        "\n",
        "  def predict(self, testdoc, classes):\n",
        "    sum = np.zeros(5)\n",
        "    words = testdoc.lower().split('|')\n",
        "    for c in classes:\n",
        "      sum[c] = self.logprior[c]\n",
        "      for i, word in enumerate(words):\n",
        "        if word in self.vocabulary:\n",
        "          sum[c] += self.loglikelihood[self.vocabulary[word], c]\n",
        "    return np.argmax(sum)\n",
        "\n",
        "\n",
        "\n",
        "\n",
        "\n",
        "\n",
        "\n",
        "\n"
      ],
      "metadata": {
        "id": "Fegl9TQmSMGM"
      },
      "execution_count": null,
      "outputs": []
    },
    {
      "cell_type": "code",
      "source": [
        "model = NaiveBayes()\n",
        "model.train(train_data,train_labels , range(5))\n",
        "predicted_labels_original = np.array([model.predict(example, range(5)) for example in test_data])\n",
        "predicted_labels_original[:7]"
      ],
      "metadata": {
        "colab": {
          "base_uri": "https://localhost:8080/"
        },
        "id": "E1q5aLyRZlUw",
        "outputId": "0ce7fb43-f2a0-4862-b31e-eadb5ca9cb73"
      },
      "execution_count": null,
      "outputs": [
        {
          "output_type": "execute_result",
          "data": {
            "text/plain": [
              "array([3, 3, 3, 3, 3, 2, 2])"
            ]
          },
          "metadata": {},
          "execution_count": 10
        }
      ]
    },
    {
      "cell_type": "code",
      "source": [
        "print(model.loglikelihood[model.vocabulary[\"i\"]])"
      ],
      "metadata": {
        "colab": {
          "base_uri": "https://localhost:8080/"
        },
        "id": "oCEuYiBBdPlR",
        "outputId": "d3f4dcc5-cb1b-41cf-95b9-c370ec675467"
      },
      "execution_count": null,
      "outputs": [
        {
          "output_type": "stream",
          "name": "stdout",
          "text": [
            "[-6.08981822 -6.22509988 -6.48650425 -6.4461366  -6.59228593]\n"
          ]
        }
      ]
    },
    {
      "cell_type": "code",
      "source": [
        "def confusion_matrix(y_true, y_pred):\n",
        "    if len(y_true) != len(y_pred):\n",
        "        raise ValueError(\"Predicted and true labels must have the same size.\")\n",
        "\n",
        "    num_classes = np.unique(y_true).shape[0]\n",
        "    confusion_matrix = np.zeros((num_classes, num_classes), dtype=int)\n",
        "\n",
        "    for i in range(len(y_true)):\n",
        "        true_label = y_true[i]\n",
        "        pred_label = y_pred[i]\n",
        "        confusion_matrix[true_label, pred_label] += 1\n",
        "\n",
        "    return confusion_matrix\n"
      ],
      "metadata": {
        "id": "niD7Gta318Z6"
      },
      "execution_count": null,
      "outputs": []
    },
    {
      "cell_type": "code",
      "source": [
        "from sklearn.feature_extraction.text import CountVectorizer\n",
        "from sklearn.naive_bayes import MultinomialNB\n",
        "from sklearn.pipeline import Pipeline\n",
        "from sklearn.metrics import accuracy_score, confusion_matrix\n",
        "# Define pipeline\n",
        "pipeline = Pipeline([\n",
        "    ('vectorizer', CountVectorizer(tokenizer=lambda x: x.split('|'))),  # Adjust CountVectorizer to match your preprocessing\n",
        "    ('classifier', MultinomialNB())\n",
        "])\n",
        "\n",
        "# Train pipeline\n",
        "pipeline.fit(train_data, train_labels)\n",
        "\n",
        "# Predict\n",
        "predicted_labels_sklearn = pipeline.predict(test_data)\n",
        "\n"
      ],
      "metadata": {
        "colab": {
          "base_uri": "https://localhost:8080/"
        },
        "id": "pXlsTXK2DUY9",
        "outputId": "04bcfe2e-50f0-412e-85ae-d1b4555ad068"
      },
      "execution_count": null,
      "outputs": [
        {
          "output_type": "stream",
          "name": "stderr",
          "text": [
            "/usr/local/lib/python3.10/dist-packages/sklearn/feature_extraction/text.py:528: UserWarning: The parameter 'token_pattern' will not be used since 'tokenizer' is not None'\n",
            "  warnings.warn(\n"
          ]
        }
      ]
    },
    {
      "cell_type": "code",
      "source": [
        "import seaborn as sns\n",
        "conf_mat_sklearn = confusion_matrix(test_labels, predicted_labels_sklearn)\n",
        "conf_mat_original = confusion_matrix(test_labels, predicted_labels_original)\n",
        "\n",
        "fig, (ax1, ax2) = plt.subplots(1, 2, figsize=(16, 6))  # Adjust figure size as needed\n",
        "\n",
        "\n",
        "sns.heatmap(conf_mat_sklearn, annot=True, fmt=\"d\", cmap=\"Blues\", cbar=False, ax=ax1)\n",
        "ax1.set_xlabel(\"Predicted Label\")\n",
        "ax1.set_ylabel(\"True Label\")\n",
        "ax1.set_title(\"Confusion Matrix for Naive Bayes Classifier from sklearn\")\n",
        "\n",
        "# Plot the second heatmap on the second subplot\n",
        "sns.heatmap(conf_mat_original, annot=True, fmt=\"d\", cmap=\"Greens\", cbar=False, ax=ax2)\n",
        "ax2.set_xlabel(\"Predicted Label\")\n",
        "ax2.set_ylabel(\"True Label\")\n",
        "ax2.set_title(\"Confusion Matrix for Naive Bayes Classifier from scratch\")\n",
        "\n",
        "# Adjust layout for better spacing\n",
        "plt.tight_layout()\n",
        "plt.show()\n",
        "\n",
        "\n"
      ],
      "metadata": {
        "colab": {
          "base_uri": "https://localhost:8080/",
          "height": 546
        },
        "id": "U1jP_uNlf_gC",
        "outputId": "c6cab6ef-fd61-4e1d-983a-b4ad18ded32a"
      },
      "execution_count": null,
      "outputs": [
        {
          "output_type": "display_data",
          "data": {
            "text/plain": [
              "<Figure size 1600x600 with 2 Axes>"
            ],
            "image/png": "[encoded data removed]"
          },
          "metadata": {}
        }
      ]
    },
    {
      "cell_type": "code",
      "source": [
        "from tabulate import tabulate\n",
        "\n",
        "def precision(confusion_matrix, class_index):\n",
        "    true_positives = confusion_matrix[class_index, class_index]\n",
        "    false_positives = np.sum(confusion_matrix[:, class_index]) - true_positives\n",
        "    if true_positives + false_positives == 0:\n",
        "        return 0\n",
        "    return true_positives / (true_positives + false_positives)\n",
        "\n",
        "\n",
        "def recall(confusion_matrix, class_index):\n",
        "    true_positives = confusion_matrix[class_index, class_index]\n",
        "    false_negatives = np.sum(confusion_matrix[class_index, :]) - true_positives\n",
        "    if true_positives + false_negatives == 0:\n",
        "        return 0\n",
        "    return true_positives / (true_positives + false_negatives)\n",
        "\n",
        "\n",
        "def f1_score(confusion_matrix, class_index, beta=1):\n",
        "    precision_val = precision(confusion_matrix, class_index)\n",
        "    recall_val = recall(confusion_matrix, class_index)\n",
        "    if precision_val + recall_val == 0:\n",
        "        return 0\n",
        "    return (1 + beta**2) * precision_val * recall_val / ((beta**2) * precision_val + recall_val)\n",
        "\n",
        "\n",
        "def calculate_metrics(confusion_matrix):\n",
        "   num_classes = confusion_matrix.shape[0]\n",
        "   class_wise_metrics = {}\n",
        "   for class_index in range(num_classes):\n",
        "       class_wise_metrics[f\"Class {class_index}\"] = {\n",
        "           \"Precision\": precision(confusion_matrix, class_index),\n",
        "           \"Recall\": recall(confusion_matrix, class_index),\n",
        "           \"F1-Score\": f1_score(confusion_matrix, class_index),\n",
        "       }\n",
        "\n",
        "   # Macro-average (average across classes without considering class imbalance)\n",
        "   macro_precision = np.mean([precision(confusion_matrix, i) for i in range(num_classes)])\n",
        "   macro_recall = np.mean([recall(confusion_matrix, i) for i in range(num_classes)])\n",
        "   macro_f1 = np.mean([f1_score(confusion_matrix, i) for i in range(num_classes)])\n",
        "\n",
        "   metrics = {\n",
        "       \"Class-wise Metrics\": class_wise_metrics,\n",
        "       \"Macro-averaged Precision\": macro_precision,\n",
        "       \"Macro-averaged Recall\": macro_recall,\n",
        "       \"Macro-averaged F1-Score\": macro_f1,\n",
        "   }\n",
        "\n",
        "   return metrics\n",
        "\n",
        "def tabulate_metrics(metrics):\n",
        "    class_wise_metrics = metrics[\"Class-wise Metrics\"]\n",
        "    macro_precision = metrics[\"Macro-averaged Precision\"]\n",
        "    macro_recall = metrics[\"Macro-averaged Recall\"]\n",
        "    macro_f1 = metrics[\"Macro-averaged F1-Score\"]\n",
        "\n",
        "    table = []\n",
        "    for class_name, class_metrics in class_wise_metrics.items():\n",
        "        table.append([class_name,\n",
        "                      class_metrics[\"Precision\"],\n",
        "                      class_metrics[\"Recall\"],\n",
        "                      class_metrics[\"F1-Score\"]])\n",
        "\n",
        "    table.append([\"Macro-average\",\n",
        "                  macro_precision,\n",
        "                  macro_recall,\n",
        "                  macro_f1])\n",
        "\n",
        "    headers = [\"Class\", \"Precision\", \"Recall\", \"F1-Score\"]\n",
        "    return tabulate(table, headers, tablefmt=\"grid\")\n",
        "\n",
        "\n",
        "metrics_original_by_original = calculate_metrics(conf_mat_original)\n",
        "metrics_sklearn_by_original = calculate_metrics(conf_mat_sklearn)\n",
        "\n"
      ],
      "metadata": {
        "id": "HglexYK-ZJL6"
      },
      "execution_count": null,
      "outputs": []
    },
    {
      "cell_type": "code",
      "source": [
        "from sklearn.metrics import precision_score, recall_score, f1_score\n",
        "\n",
        "def calculate_metrics_sklearn(y_true, y_pred):\n",
        "    num_classes = len(set(y_true))\n",
        "\n",
        "    class_wise_metrics = {}\n",
        "    for class_index in range(num_classes):\n",
        "        class_wise_metrics[f\"Class {class_index}\"] = {\n",
        "            \"Precision\": precision_score(y_true, y_pred, average=None)[class_index],\n",
        "            \"Recall\": recall_score(y_true, y_pred, average=None)[class_index],\n",
        "            \"F1-Score\": f1_score(y_true, y_pred, average=None)[class_index],\n",
        "        }\n",
        "\n",
        "    macro_precision = precision_score(y_true, y_pred, average='macro')\n",
        "    macro_recall = recall_score(y_true, y_pred, average='macro')\n",
        "    macro_f1 = f1_score(y_true, y_pred, average='macro')\n",
        "\n",
        "    metrics = {\n",
        "        \"Class-wise Metrics\": class_wise_metrics,\n",
        "        \"Macro-averaged Precision\": macro_precision,\n",
        "        \"Macro-averaged Recall\": macro_recall,\n",
        "        \"Macro-averaged F1-Score\": macro_f1,\n",
        "    }\n",
        "\n",
        "    return metrics\n",
        "\n",
        "# print(type(conf_mat_sklearn))\n",
        "# Example usage:\n",
        "metrics_sklearn_by_sklearn = calculate_metrics_sklearn(test_labels, predicted_labels_sklearn)\n",
        "# metrics_sklearn_by_original = calculate_metrics(conf_mat_sklearn)\n",
        "# metrics_original_by_original = calculate_metrics(conf_mat_original)\n",
        "metrics_original_by_sklearn = calculate_metrics_sklearn(test_labels, predicted_labels_original)\n",
        "table = tabulate_metrics(metrics_sklearn_by_sklearn)\n",
        "table2 = tabulate_metrics(metrics_sklearn_by_original)\n",
        "table3 = tabulate_metrics(metrics_original_by_original)\n",
        "table4 = tabulate_metrics(metrics_original_by_sklearn)\n",
        "print(f\"metrics of sklearn's output calculated by sklearn's model evaluation functions\")\n",
        "print(table)\n",
        "print(f\"metrics of sklearn's output calculated by original model evaluation functions\")\n",
        "print(table2)\n",
        "print(f\"metrics of original class output calculated by original model evaluation functions\")\n",
        "print(table3)\n",
        "print(f\"metrics of original class output calculated by sklearn model evaluation functions\")\n",
        "print(table4)\n",
        "\n"
      ],
      "metadata": {
        "colab": {
          "base_uri": "https://localhost:8080/"
        },
        "id": "XVofcuhfSCCs",
        "outputId": "1f83eb6f-d469-4968-cd8b-4323e8ff73d9"
      },
      "execution_count": null,
      "outputs": [
        {
          "output_type": "stream",
          "name": "stdout",
          "text": [
            "metrics of sklearn's output calculated by sklearn's model evaluation functions\n",
            "+---------------+-------------+-----------+------------+\n",
            "| Class         |   Precision |    Recall |   F1-Score |\n",
            "+===============+=============+===========+============+\n",
            "| Class 0       |    0.4      | 0.0573477 |   0.100313 |\n",
            "+---------------+-------------+-----------+------------+\n",
            "| Class 1       |    0.453947 | 0.654028  |   0.535922 |\n",
            "+---------------+-------------+-----------+------------+\n",
            "| Class 2       |    0.218487 | 0.066838  |   0.102362 |\n",
            "+---------------+-------------+-----------+------------+\n",
            "| Class 3       |    0.352767 | 0.7       |   0.46912  |\n",
            "+---------------+-------------+-----------+------------+\n",
            "| Class 4       |    0.582677 | 0.185464  |   0.281369 |\n",
            "+---------------+-------------+-----------+------------+\n",
            "| Macro-average |    0.401576 | 0.332736  |   0.297817 |\n",
            "+---------------+-------------+-----------+------------+\n",
            "metrics of sklearn's output calculated by original model evaluation functions\n",
            "+---------------+-------------+-----------+------------+\n",
            "| Class         |   Precision |    Recall |   F1-Score |\n",
            "+===============+=============+===========+============+\n",
            "| Class 0       |    0.4      | 0.0573477 |   0.100313 |\n",
            "+---------------+-------------+-----------+------------+\n",
            "| Class 1       |    0.453947 | 0.654028  |   0.535922 |\n",
            "+---------------+-------------+-----------+------------+\n",
            "| Class 2       |    0.218487 | 0.066838  |   0.102362 |\n",
            "+---------------+-------------+-----------+------------+\n",
            "| Class 3       |    0.352767 | 0.7       |   0.46912  |\n",
            "+---------------+-------------+-----------+------------+\n",
            "| Class 4       |    0.582677 | 0.185464  |   0.281369 |\n",
            "+---------------+-------------+-----------+------------+\n",
            "| Macro-average |    0.401576 | 0.332736  |   0.297817 |\n",
            "+---------------+-------------+-----------+------------+\n",
            "metrics of original class output calculated by original model evaluation functions\n",
            "+---------------+-------------+-----------+------------+\n",
            "| Class         |   Precision |    Recall |   F1-Score |\n",
            "+===============+=============+===========+============+\n",
            "| Class 0       |    0.4      | 0.0573477 |   0.100313 |\n",
            "+---------------+-------------+-----------+------------+\n",
            "| Class 1       |    0.453947 | 0.654028  |   0.535922 |\n",
            "+---------------+-------------+-----------+------------+\n",
            "| Class 2       |    0.218487 | 0.066838  |   0.102362 |\n",
            "+---------------+-------------+-----------+------------+\n",
            "| Class 3       |    0.352767 | 0.7       |   0.46912  |\n",
            "+---------------+-------------+-----------+------------+\n",
            "| Class 4       |    0.582677 | 0.185464  |   0.281369 |\n",
            "+---------------+-------------+-----------+------------+\n",
            "| Macro-average |    0.401576 | 0.332736  |   0.297817 |\n",
            "+---------------+-------------+-----------+------------+\n",
            "metrics of original class output calculated by sklearn model evaluation functions\n",
            "+---------------+-------------+-----------+------------+\n",
            "| Class         |   Precision |    Recall |   F1-Score |\n",
            "+===============+=============+===========+============+\n",
            "| Class 0       |    0.4      | 0.0573477 |   0.100313 |\n",
            "+---------------+-------------+-----------+------------+\n",
            "| Class 1       |    0.453947 | 0.654028  |   0.535922 |\n",
            "+---------------+-------------+-----------+------------+\n",
            "| Class 2       |    0.218487 | 0.066838  |   0.102362 |\n",
            "+---------------+-------------+-----------+------------+\n",
            "| Class 3       |    0.352767 | 0.7       |   0.46912  |\n",
            "+---------------+-------------+-----------+------------+\n",
            "| Class 4       |    0.582677 | 0.185464  |   0.281369 |\n",
            "+---------------+-------------+-----------+------------+\n",
            "| Macro-average |    0.401576 | 0.332736  |   0.297817 |\n",
            "+---------------+-------------+-----------+------------+\n"
          ]
        }
      ]
    }
  ]
}